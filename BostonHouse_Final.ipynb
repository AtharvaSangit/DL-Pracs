{
  "nbformat": 4,
  "nbformat_minor": 0,
  "metadata": {
    "colab": {
      "provenance": [],
      "gpuType": "T4"
    },
    "kernelspec": {
      "name": "python3",
      "display_name": "Python 3"
    },
    "language_info": {
      "name": "python"
    },
    "accelerator": "GPU"
  },
  "cells": [
    {
      "cell_type": "markdown",
      "source": [
        "##Assignment No. 01\n",
        "**Title:** Linear regression by using Deep Neural network Implement Boston\n",
        "housing price prediction problem by Linear regression using Deep Neural network. Use Boston\n",
        "House price prediction dataset."
      ],
      "metadata": {
        "id": "-irbdYKvNyCo"
      }
    },
    {
      "cell_type": "code",
      "execution_count": 1,
      "metadata": {
        "id": "goARc6fRvGiW"
      },
      "outputs": [],
      "source": [
        "import tensorflow as tf\n",
        "from tensorflow.keras.datasets import boston_housing\n",
        "from sklearn import preprocessing"
      ]
    },
    {
      "cell_type": "code",
      "source": [
        "(train_x,train_y),(test_x,test_y) = boston_housing.load_data()"
      ],
      "metadata": {
        "id": "qQLi0ndov3W7",
        "colab": {
          "base_uri": "https://localhost:8080/"
        },
        "outputId": "1ca55b84-f1ff-4932-ceb0-62c9dbafa84b"
      },
      "execution_count": 2,
      "outputs": [
        {
          "output_type": "stream",
          "name": "stdout",
          "text": [
            "Downloading data from https://storage.googleapis.com/tensorflow/tf-keras-datasets/boston_housing.npz\n",
            "57026/57026 [==============================] - 0s 0us/step\n"
          ]
        }
      ]
    },
    {
      "cell_type": "code",
      "source": [
        "print(\"train shape :\",train_x.shape)\n",
        "print(\"Test shape :\",test_x.shape)\n",
        "print(\"Actual Train Output\",train_y.shape)\n",
        "print(\"Actual Test Output\",test_y.shape)"
      ],
      "metadata": {
        "colab": {
          "base_uri": "https://localhost:8080/"
        },
        "id": "nAPCxCXQwXTw",
        "outputId": "88d1e68d-4003-4a7f-e664-b41c43096600"
      },
      "execution_count": 3,
      "outputs": [
        {
          "output_type": "stream",
          "name": "stdout",
          "text": [
            "train shape : (404, 13)\n",
            "Test shape : (102, 13)\n",
            "Actual Train Output (404,)\n",
            "Actual Test Output (102,)\n"
          ]
        }
      ]
    },
    {
      "cell_type": "code",
      "source": [
        "train_x[0]"
      ],
      "metadata": {
        "colab": {
          "base_uri": "https://localhost:8080/"
        },
        "id": "tSpnOsyPf-8y",
        "outputId": "6c425e11-97e9-4996-82d2-bccc2916b0a9"
      },
      "execution_count": 4,
      "outputs": [
        {
          "output_type": "execute_result",
          "data": {
            "text/plain": [
              "array([  1.23247,   0.     ,   8.14   ,   0.     ,   0.538  ,   6.142  ,\n",
              "        91.7    ,   3.9769 ,   4.     , 307.     ,  21.     , 396.9    ,\n",
              "        18.72   ])"
            ]
          },
          "metadata": {},
          "execution_count": 4
        }
      ]
    },
    {
      "cell_type": "code",
      "source": [
        "train_y[0]"
      ],
      "metadata": {
        "colab": {
          "base_uri": "https://localhost:8080/"
        },
        "id": "lmBouxXagFAl",
        "outputId": "9a3daee3-08dc-4250-ab39-d94e2dd70b59"
      },
      "execution_count": 5,
      "outputs": [
        {
          "output_type": "execute_result",
          "data": {
            "text/plain": [
              "15.2"
            ]
          },
          "metadata": {},
          "execution_count": 5
        }
      ]
    },
    {
      "cell_type": "code",
      "source": [
        "test_x[0]"
      ],
      "metadata": {
        "colab": {
          "base_uri": "https://localhost:8080/"
        },
        "id": "57Rs98dpgHcO",
        "outputId": "4eee6104-1f44-46c1-fd7a-f716ee0c277b"
      },
      "execution_count": 6,
      "outputs": [
        {
          "output_type": "execute_result",
          "data": {
            "text/plain": [
              "array([ 18.0846,   0.    ,  18.1   ,   0.    ,   0.679 ,   6.434 ,\n",
              "       100.    ,   1.8347,  24.    , 666.    ,  20.2   ,  27.25  ,\n",
              "        29.05  ])"
            ]
          },
          "metadata": {},
          "execution_count": 6
        }
      ]
    },
    {
      "cell_type": "code",
      "source": [
        "test_y[0]"
      ],
      "metadata": {
        "colab": {
          "base_uri": "https://localhost:8080/"
        },
        "id": "V5i5VWFIgLZ9",
        "outputId": "4e66928c-efd5-49a8-d871-adda56a8b7b2"
      },
      "execution_count": 7,
      "outputs": [
        {
          "output_type": "execute_result",
          "data": {
            "text/plain": [
              "7.2"
            ]
          },
          "metadata": {},
          "execution_count": 7
        }
      ]
    },
    {
      "cell_type": "code",
      "source": [
        "train_x=preprocessing.normalize(train_x)\n",
        "test_x=preprocessing.normalize(test_x)"
      ],
      "metadata": {
        "id": "voBQHkyHyGqW"
      },
      "execution_count": 8,
      "outputs": []
    },
    {
      "cell_type": "code",
      "source": [
        "train_x[0]"
      ],
      "metadata": {
        "colab": {
          "base_uri": "https://localhost:8080/"
        },
        "id": "LFahLkcTyYik",
        "outputId": "1bc01200-39fc-4d90-d272-a93774237f6e"
      },
      "execution_count": 9,
      "outputs": [
        {
          "output_type": "execute_result",
          "data": {
            "text/plain": [
              "array([0.0024119 , 0.        , 0.01592969, 0.        , 0.00105285,\n",
              "       0.01201967, 0.17945359, 0.00778265, 0.00782786, 0.6007879 ,\n",
              "       0.04109624, 0.77671895, 0.03663436])"
            ]
          },
          "metadata": {},
          "execution_count": 9
        }
      ]
    },
    {
      "cell_type": "code",
      "source": [
        "test_x[0]"
      ],
      "metadata": {
        "colab": {
          "base_uri": "https://localhost:8080/"
        },
        "id": "vLT4T1-_kDxJ",
        "outputId": "c069b1ee-fbca-4c8c-a1ff-ac11c4e2a822"
      },
      "execution_count": 10,
      "outputs": [
        {
          "output_type": "execute_result",
          "data": {
            "text/plain": [
              "array([0.02675675, 0.        , 0.02677953, 0.        , 0.0010046 ,\n",
              "       0.00951931, 0.14795322, 0.0027145 , 0.03550877, 0.98536841,\n",
              "       0.02988655, 0.04031725, 0.04298041])"
            ]
          },
          "metadata": {},
          "execution_count": 10
        }
      ]
    },
    {
      "cell_type": "code",
      "source": [
        "from tensorflow.keras.models import Sequential\n",
        "from tensorflow.keras.layers import *\n",
        "def HousePricePredictionModel():\n",
        "  model=Sequential()\n",
        "  model.add(Dense(128,activation='relu',input_shape=(train_x[0].shape)))\n",
        "  model.add(Dense(64,activation='relu'))\n",
        "  model.add(Dense(32,activation='relu'))\n",
        "  model.add(Dense(1))\n",
        "  model.compile(optimizer='rmsprop',loss='mse',metrics=['mae'])\n",
        "  return model\n"
      ],
      "metadata": {
        "id": "UQ1psx6EylPu"
      },
      "execution_count": 11,
      "outputs": []
    },
    {
      "cell_type": "code",
      "source": [
        "import numpy as np\n",
        "k=4\n",
        "num_val_samples= len(train_x)\n",
        "num_epochs = 100\n",
        "all_scores = []"
      ],
      "metadata": {
        "id": "ZDpn2YmK1ZDm"
      },
      "execution_count": 12,
      "outputs": []
    },
    {
      "cell_type": "code",
      "source": [
        "model = HousePricePredictionModel()\n",
        "history=model.fit(x=train_x,y=train_y,epochs= num_epochs,batch_size=1,verbose=1,validation_data=(test_x,test_y))"
      ],
      "metadata": {
        "id": "_Dgpz-Th2Tps",
        "colab": {
          "base_uri": "https://localhost:8080/"
        },
        "outputId": "0f14e43c-53d5-41f9-bec1-76d6001aab65"
      },
      "execution_count": 13,
      "outputs": [
        {
          "output_type": "stream",
          "name": "stdout",
          "text": [
            "Epoch 1/100\n",
            "404/404 [==============================] - 5s 5ms/step - loss: 129.4815 - mae: 8.0497 - val_loss: 77.3374 - val_mae: 6.2047\n",
            "Epoch 2/100\n",
            "404/404 [==============================] - 1s 4ms/step - loss: 67.6448 - mae: 5.7381 - val_loss: 67.3660 - val_mae: 6.4780\n",
            "Epoch 3/100\n",
            "404/404 [==============================] - 1s 4ms/step - loss: 62.7158 - mae: 5.4903 - val_loss: 55.7255 - val_mae: 5.6129\n",
            "Epoch 4/100\n",
            "404/404 [==============================] - 2s 4ms/step - loss: 59.6124 - mae: 5.3989 - val_loss: 56.8148 - val_mae: 5.4436\n",
            "Epoch 5/100\n",
            "404/404 [==============================] - 2s 5ms/step - loss: 58.2442 - mae: 5.2179 - val_loss: 53.1260 - val_mae: 5.4193\n",
            "Epoch 6/100\n",
            "404/404 [==============================] - 2s 6ms/step - loss: 56.4053 - mae: 5.1543 - val_loss: 52.7400 - val_mae: 5.2574\n",
            "Epoch 7/100\n",
            "404/404 [==============================] - 2s 6ms/step - loss: 54.3338 - mae: 4.9690 - val_loss: 51.1575 - val_mae: 5.1541\n",
            "Epoch 8/100\n",
            "404/404 [==============================] - 2s 4ms/step - loss: 53.5714 - mae: 4.9160 - val_loss: 50.9091 - val_mae: 5.0597\n",
            "Epoch 9/100\n",
            "404/404 [==============================] - 1s 3ms/step - loss: 51.7139 - mae: 4.8853 - val_loss: 50.4391 - val_mae: 5.2984\n",
            "Epoch 10/100\n",
            "404/404 [==============================] - 1s 3ms/step - loss: 49.6353 - mae: 4.7426 - val_loss: 55.9983 - val_mae: 5.2123\n",
            "Epoch 11/100\n",
            "404/404 [==============================] - 1s 3ms/step - loss: 47.6335 - mae: 4.6674 - val_loss: 59.4571 - val_mae: 6.3215\n",
            "Epoch 12/100\n",
            "404/404 [==============================] - 1s 3ms/step - loss: 47.2210 - mae: 4.5955 - val_loss: 47.8110 - val_mae: 4.8010\n",
            "Epoch 13/100\n",
            "404/404 [==============================] - 1s 3ms/step - loss: 43.9246 - mae: 4.4775 - val_loss: 43.6553 - val_mae: 4.5637\n",
            "Epoch 14/100\n",
            "404/404 [==============================] - 1s 3ms/step - loss: 43.5412 - mae: 4.4036 - val_loss: 38.7684 - val_mae: 4.4833\n",
            "Epoch 15/100\n",
            "404/404 [==============================] - 1s 3ms/step - loss: 41.2958 - mae: 4.4180 - val_loss: 39.6679 - val_mae: 4.3216\n",
            "Epoch 16/100\n",
            "404/404 [==============================] - 2s 4ms/step - loss: 38.4635 - mae: 4.3093 - val_loss: 34.9498 - val_mae: 4.1503\n",
            "Epoch 17/100\n",
            "404/404 [==============================] - 2s 4ms/step - loss: 37.6862 - mae: 4.2681 - val_loss: 45.6379 - val_mae: 4.6620\n",
            "Epoch 18/100\n",
            "404/404 [==============================] - 1s 3ms/step - loss: 36.7609 - mae: 4.2587 - val_loss: 34.3325 - val_mae: 4.3770\n",
            "Epoch 19/100\n",
            "404/404 [==============================] - 1s 3ms/step - loss: 36.6972 - mae: 4.2413 - val_loss: 32.4384 - val_mae: 3.9438\n",
            "Epoch 20/100\n",
            "404/404 [==============================] - 1s 4ms/step - loss: 34.7541 - mae: 4.0312 - val_loss: 48.0465 - val_mae: 4.8778\n",
            "Epoch 21/100\n",
            "404/404 [==============================] - 1s 3ms/step - loss: 34.5525 - mae: 4.0767 - val_loss: 32.0230 - val_mae: 3.9245\n",
            "Epoch 22/100\n",
            "404/404 [==============================] - 1s 3ms/step - loss: 33.3491 - mae: 4.0420 - val_loss: 31.2954 - val_mae: 3.8814\n",
            "Epoch 23/100\n",
            "404/404 [==============================] - 1s 3ms/step - loss: 32.1070 - mae: 3.9224 - val_loss: 31.1350 - val_mae: 3.8644\n",
            "Epoch 24/100\n",
            "404/404 [==============================] - 1s 3ms/step - loss: 30.8262 - mae: 3.9716 - val_loss: 28.7464 - val_mae: 3.7724\n",
            "Epoch 25/100\n",
            "404/404 [==============================] - 2s 4ms/step - loss: 30.5610 - mae: 3.8972 - val_loss: 27.3680 - val_mae: 3.7025\n",
            "Epoch 26/100\n",
            "404/404 [==============================] - 1s 4ms/step - loss: 30.5079 - mae: 3.8759 - val_loss: 27.5362 - val_mae: 3.6705\n",
            "Epoch 27/100\n",
            "404/404 [==============================] - 1s 3ms/step - loss: 28.4469 - mae: 3.7475 - val_loss: 33.0721 - val_mae: 3.9714\n",
            "Epoch 28/100\n",
            "404/404 [==============================] - 1s 3ms/step - loss: 27.8072 - mae: 3.7345 - val_loss: 32.0405 - val_mae: 3.9122\n",
            "Epoch 29/100\n",
            "404/404 [==============================] - 1s 3ms/step - loss: 28.0810 - mae: 3.7707 - val_loss: 28.9056 - val_mae: 3.7606\n",
            "Epoch 30/100\n",
            "404/404 [==============================] - 1s 3ms/step - loss: 28.0314 - mae: 3.7487 - val_loss: 26.3791 - val_mae: 3.6747\n",
            "Epoch 31/100\n",
            "404/404 [==============================] - 1s 4ms/step - loss: 26.8366 - mae: 3.7152 - val_loss: 27.2052 - val_mae: 3.6378\n",
            "Epoch 32/100\n",
            "404/404 [==============================] - 1s 3ms/step - loss: 25.5121 - mae: 3.7115 - val_loss: 28.2296 - val_mae: 3.6764\n",
            "Epoch 33/100\n",
            "404/404 [==============================] - 1s 3ms/step - loss: 25.1172 - mae: 3.5198 - val_loss: 27.3392 - val_mae: 3.6330\n",
            "Epoch 34/100\n",
            "404/404 [==============================] - 2s 4ms/step - loss: 24.1159 - mae: 3.4403 - val_loss: 28.3325 - val_mae: 3.7051\n",
            "Epoch 35/100\n",
            "404/404 [==============================] - 1s 4ms/step - loss: 24.2117 - mae: 3.4805 - val_loss: 28.2537 - val_mae: 3.7138\n",
            "Epoch 36/100\n",
            "404/404 [==============================] - 1s 4ms/step - loss: 23.2176 - mae: 3.4271 - val_loss: 25.5377 - val_mae: 3.6837\n",
            "Epoch 37/100\n",
            "404/404 [==============================] - 1s 3ms/step - loss: 24.1502 - mae: 3.5139 - val_loss: 25.4440 - val_mae: 3.6369\n",
            "Epoch 38/100\n",
            "404/404 [==============================] - 1s 3ms/step - loss: 21.7477 - mae: 3.3357 - val_loss: 25.8112 - val_mae: 3.6467\n",
            "Epoch 39/100\n",
            "404/404 [==============================] - 1s 3ms/step - loss: 22.4879 - mae: 3.3875 - val_loss: 26.0389 - val_mae: 3.5608\n",
            "Epoch 40/100\n",
            "404/404 [==============================] - 1s 3ms/step - loss: 22.4547 - mae: 3.3930 - val_loss: 33.6059 - val_mae: 4.0602\n",
            "Epoch 41/100\n",
            "404/404 [==============================] - 1s 3ms/step - loss: 22.4586 - mae: 3.3947 - val_loss: 29.5970 - val_mae: 3.7877\n",
            "Epoch 42/100\n",
            "404/404 [==============================] - 1s 3ms/step - loss: 21.1015 - mae: 3.3451 - val_loss: 29.6998 - val_mae: 3.8527\n",
            "Epoch 43/100\n",
            "404/404 [==============================] - 2s 5ms/step - loss: 21.7514 - mae: 3.3395 - val_loss: 37.5501 - val_mae: 5.0501\n",
            "Epoch 44/100\n",
            "404/404 [==============================] - 1s 3ms/step - loss: 20.8967 - mae: 3.3000 - val_loss: 41.3868 - val_mae: 4.5595\n",
            "Epoch 45/100\n",
            "404/404 [==============================] - 1s 3ms/step - loss: 20.0344 - mae: 3.2486 - val_loss: 30.5855 - val_mae: 3.8908\n",
            "Epoch 46/100\n",
            "404/404 [==============================] - 1s 3ms/step - loss: 21.2188 - mae: 3.3058 - val_loss: 28.1066 - val_mae: 3.6845\n",
            "Epoch 47/100\n",
            "404/404 [==============================] - 1s 3ms/step - loss: 19.2937 - mae: 3.2275 - val_loss: 32.7392 - val_mae: 4.1154\n",
            "Epoch 48/100\n",
            "404/404 [==============================] - 1s 3ms/step - loss: 19.1134 - mae: 3.1498 - val_loss: 37.6961 - val_mae: 4.6273\n",
            "Epoch 49/100\n",
            "404/404 [==============================] - 1s 3ms/step - loss: 20.6558 - mae: 3.2652 - val_loss: 28.0836 - val_mae: 3.9806\n",
            "Epoch 50/100\n",
            "404/404 [==============================] - 1s 3ms/step - loss: 19.7330 - mae: 3.1570 - val_loss: 27.8153 - val_mae: 3.7213\n",
            "Epoch 51/100\n",
            "404/404 [==============================] - 1s 3ms/step - loss: 20.1201 - mae: 3.3750 - val_loss: 29.0732 - val_mae: 3.9990\n",
            "Epoch 52/100\n",
            "404/404 [==============================] - 2s 4ms/step - loss: 18.8637 - mae: 3.1477 - val_loss: 28.1542 - val_mae: 3.7571\n",
            "Epoch 53/100\n",
            "404/404 [==============================] - 1s 4ms/step - loss: 19.8323 - mae: 3.1743 - val_loss: 26.6671 - val_mae: 3.6602\n",
            "Epoch 54/100\n",
            "404/404 [==============================] - 1s 3ms/step - loss: 20.6326 - mae: 3.2270 - val_loss: 35.0648 - val_mae: 4.1562\n",
            "Epoch 55/100\n",
            "404/404 [==============================] - 1s 3ms/step - loss: 18.4272 - mae: 3.1152 - val_loss: 31.3447 - val_mae: 3.9789\n",
            "Epoch 56/100\n",
            "404/404 [==============================] - 1s 3ms/step - loss: 19.2340 - mae: 3.1356 - val_loss: 29.7931 - val_mae: 3.9819\n",
            "Epoch 57/100\n",
            "404/404 [==============================] - 1s 3ms/step - loss: 18.7508 - mae: 3.0677 - val_loss: 31.2986 - val_mae: 3.9199\n",
            "Epoch 58/100\n",
            "404/404 [==============================] - 1s 3ms/step - loss: 19.5552 - mae: 3.0751 - val_loss: 27.0751 - val_mae: 3.5826\n",
            "Epoch 59/100\n",
            "404/404 [==============================] - 1s 3ms/step - loss: 18.5906 - mae: 3.0709 - val_loss: 61.9751 - val_mae: 6.2477\n",
            "Epoch 60/100\n",
            "404/404 [==============================] - 2s 4ms/step - loss: 18.6666 - mae: 3.1205 - val_loss: 32.9032 - val_mae: 4.2517\n",
            "Epoch 61/100\n",
            "404/404 [==============================] - 2s 4ms/step - loss: 17.9294 - mae: 3.0291 - val_loss: 34.1107 - val_mae: 4.1050\n",
            "Epoch 62/100\n",
            "404/404 [==============================] - 1s 3ms/step - loss: 19.0510 - mae: 3.0879 - val_loss: 36.5270 - val_mae: 4.4292\n",
            "Epoch 63/100\n",
            "404/404 [==============================] - 1s 3ms/step - loss: 17.9078 - mae: 3.0127 - val_loss: 28.9109 - val_mae: 3.6926\n",
            "Epoch 64/100\n",
            "404/404 [==============================] - 1s 3ms/step - loss: 18.6281 - mae: 3.0707 - val_loss: 27.7010 - val_mae: 3.5769\n",
            "Epoch 65/100\n",
            "404/404 [==============================] - 1s 3ms/step - loss: 18.2330 - mae: 3.0166 - val_loss: 31.0206 - val_mae: 3.7748\n",
            "Epoch 66/100\n",
            "404/404 [==============================] - 1s 3ms/step - loss: 17.9680 - mae: 2.9769 - val_loss: 37.0918 - val_mae: 4.3435\n",
            "Epoch 67/100\n",
            "404/404 [==============================] - 1s 3ms/step - loss: 17.9088 - mae: 3.0205 - val_loss: 31.3886 - val_mae: 3.7945\n",
            "Epoch 68/100\n",
            "404/404 [==============================] - 1s 3ms/step - loss: 16.6304 - mae: 2.8985 - val_loss: 32.6490 - val_mae: 3.9650\n",
            "Epoch 69/100\n",
            "404/404 [==============================] - 2s 4ms/step - loss: 16.1165 - mae: 2.9917 - val_loss: 28.1572 - val_mae: 3.5753\n",
            "Epoch 70/100\n",
            "404/404 [==============================] - 2s 4ms/step - loss: 16.2911 - mae: 2.9118 - val_loss: 30.4551 - val_mae: 3.6862\n",
            "Epoch 71/100\n",
            "404/404 [==============================] - 1s 3ms/step - loss: 17.1733 - mae: 2.9591 - val_loss: 29.8719 - val_mae: 3.7019\n",
            "Epoch 72/100\n",
            "404/404 [==============================] - 1s 3ms/step - loss: 16.7746 - mae: 2.9601 - val_loss: 27.4024 - val_mae: 3.7478\n",
            "Epoch 73/100\n",
            "404/404 [==============================] - 1s 3ms/step - loss: 18.0519 - mae: 3.0526 - val_loss: 29.7128 - val_mae: 3.6838\n",
            "Epoch 74/100\n",
            "404/404 [==============================] - 1s 3ms/step - loss: 17.1115 - mae: 2.9163 - val_loss: 41.0775 - val_mae: 4.7474\n",
            "Epoch 75/100\n",
            "404/404 [==============================] - 1s 3ms/step - loss: 16.2586 - mae: 2.9797 - val_loss: 33.3354 - val_mae: 4.0470\n",
            "Epoch 76/100\n",
            "404/404 [==============================] - 1s 3ms/step - loss: 16.9600 - mae: 2.9487 - val_loss: 27.6826 - val_mae: 3.5884\n",
            "Epoch 77/100\n",
            "404/404 [==============================] - 1s 3ms/step - loss: 17.9965 - mae: 2.9671 - val_loss: 29.5008 - val_mae: 3.6641\n",
            "Epoch 78/100\n",
            "404/404 [==============================] - 2s 5ms/step - loss: 16.7745 - mae: 2.9359 - val_loss: 30.4891 - val_mae: 3.7898\n",
            "Epoch 79/100\n",
            "404/404 [==============================] - 2s 5ms/step - loss: 18.0141 - mae: 2.9402 - val_loss: 27.7513 - val_mae: 3.6302\n",
            "Epoch 80/100\n",
            "404/404 [==============================] - 2s 4ms/step - loss: 17.1053 - mae: 3.0290 - val_loss: 27.1487 - val_mae: 3.7757\n",
            "Epoch 81/100\n",
            "404/404 [==============================] - 1s 3ms/step - loss: 16.2778 - mae: 2.9220 - val_loss: 27.3727 - val_mae: 3.5150\n",
            "Epoch 82/100\n",
            "404/404 [==============================] - 1s 3ms/step - loss: 17.4065 - mae: 3.0274 - val_loss: 29.8253 - val_mae: 3.7056\n",
            "Epoch 83/100\n",
            "404/404 [==============================] - 1s 3ms/step - loss: 18.0294 - mae: 2.9669 - val_loss: 29.2350 - val_mae: 3.6991\n",
            "Epoch 84/100\n",
            "404/404 [==============================] - 1s 3ms/step - loss: 16.7673 - mae: 2.9109 - val_loss: 28.5635 - val_mae: 3.5850\n",
            "Epoch 85/100\n",
            "404/404 [==============================] - 1s 3ms/step - loss: 16.6603 - mae: 2.9067 - val_loss: 27.0952 - val_mae: 3.4863\n",
            "Epoch 86/100\n",
            "404/404 [==============================] - 2s 4ms/step - loss: 17.0154 - mae: 3.0004 - val_loss: 29.6141 - val_mae: 3.7208\n",
            "Epoch 87/100\n",
            "404/404 [==============================] - 2s 4ms/step - loss: 16.8435 - mae: 2.8898 - val_loss: 30.1345 - val_mae: 3.7391\n",
            "Epoch 88/100\n",
            "404/404 [==============================] - 1s 3ms/step - loss: 17.4701 - mae: 2.8784 - val_loss: 40.7967 - val_mae: 4.5291\n",
            "Epoch 89/100\n",
            "404/404 [==============================] - 1s 3ms/step - loss: 17.8029 - mae: 2.9603 - val_loss: 30.7540 - val_mae: 3.7782\n",
            "Epoch 90/100\n",
            "404/404 [==============================] - 1s 3ms/step - loss: 17.4966 - mae: 2.8410 - val_loss: 30.0789 - val_mae: 3.6279\n",
            "Epoch 91/100\n",
            "404/404 [==============================] - 1s 3ms/step - loss: 16.6889 - mae: 2.9065 - val_loss: 31.1758 - val_mae: 4.0501\n",
            "Epoch 92/100\n",
            "404/404 [==============================] - 1s 3ms/step - loss: 17.1546 - mae: 2.9643 - val_loss: 26.9822 - val_mae: 3.5886\n",
            "Epoch 93/100\n",
            "404/404 [==============================] - 1s 3ms/step - loss: 17.4863 - mae: 2.8993 - val_loss: 35.1057 - val_mae: 4.1828\n",
            "Epoch 94/100\n",
            "404/404 [==============================] - 1s 3ms/step - loss: 16.4719 - mae: 2.9165 - val_loss: 26.6907 - val_mae: 3.4249\n",
            "Epoch 95/100\n",
            "404/404 [==============================] - 2s 4ms/step - loss: 16.0916 - mae: 2.9183 - val_loss: 29.7013 - val_mae: 3.6811\n",
            "Epoch 96/100\n",
            "404/404 [==============================] - 1s 4ms/step - loss: 16.2007 - mae: 2.8618 - val_loss: 27.8657 - val_mae: 3.5632\n",
            "Epoch 97/100\n",
            "404/404 [==============================] - 1s 3ms/step - loss: 16.3901 - mae: 2.8838 - val_loss: 28.3806 - val_mae: 3.6106\n",
            "Epoch 98/100\n",
            "404/404 [==============================] - 1s 4ms/step - loss: 16.5359 - mae: 2.7839 - val_loss: 26.0821 - val_mae: 3.4728\n",
            "Epoch 99/100\n",
            "404/404 [==============================] - 1s 3ms/step - loss: 17.2290 - mae: 2.9452 - val_loss: 31.1003 - val_mae: 3.6132\n",
            "Epoch 100/100\n",
            "404/404 [==============================] - 1s 3ms/step - loss: 15.4775 - mae: 2.8441 - val_loss: 30.1334 - val_mae: 3.6899\n"
          ]
        }
      ]
    },
    {
      "cell_type": "code",
      "source": [
        "test = [[0.02675675, 0.        , 0.02677953, 0.        , 0.0010046 ,\n",
        "        0.00951931, 0.14795322, 0.0027145 , 0.03550877, 0.98536841,\n",
        "        0.02988655, 0.04031725, 0.04298041]]\n",
        "print(\"Actual Output: \", train_y[0])\n",
        "print(\"Predicted Output: \", model.predict(test))"
      ],
      "metadata": {
        "colab": {
          "base_uri": "https://localhost:8080/"
        },
        "id": "YzUzn1OwEK4w",
        "outputId": "3dc55711-cf5e-49d9-affb-7cf20e036095"
      },
      "execution_count": 18,
      "outputs": [
        {
          "output_type": "stream",
          "name": "stdout",
          "text": [
            "Actual Output:  15.2\n",
            "1/1 [==============================] - 0s 31ms/step\n",
            "Predicted Output:  [[9.84335]]\n"
          ]
        }
      ]
    },
    {
      "cell_type": "code",
      "source": [],
      "metadata": {
        "id": "I_oRkCOblQ-E"
      },
      "execution_count": 15,
      "outputs": []
    }
  ]
}