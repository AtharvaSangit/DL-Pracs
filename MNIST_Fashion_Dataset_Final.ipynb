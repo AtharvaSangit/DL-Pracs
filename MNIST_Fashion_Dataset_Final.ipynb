{
  "nbformat": 4,
  "nbformat_minor": 0,
  "metadata": {
    "colab": {
      "provenance": [],
      "gpuType": "T4"
    },
    "kernelspec": {
      "name": "python3",
      "display_name": "Python 3"
    },
    "language_info": {
      "name": "python"
    },
    "accelerator": "GPU"
  },
  "cells": [
    {
      "cell_type": "markdown",
      "source": [
        "##Assignment No. 03"
      ],
      "metadata": {
        "id": "qGT1o8G4wFr0"
      }
    },
    {
      "cell_type": "markdown",
      "metadata": {
        "id": "r2NPAI4jZZgi"
      },
      "source": [
        "# Modern Deep Learning:\n",
        "# Classify Fashion-MNIST with a simple CNN in Keras"
      ]
    },
    {
      "cell_type": "code",
      "execution_count": 1,
      "metadata": {
        "colab": {
          "base_uri": "https://localhost:8080/"
        },
        "id": "d44TznbgZZgm",
        "outputId": "9655256f-1af2-41d1-c16d-f4b1b6f3493f"
      },
      "outputs": [
        {
          "output_type": "stream",
          "name": "stdout",
          "text": [
            "Downloading data from https://storage.googleapis.com/tensorflow/tf-keras-datasets/train-labels-idx1-ubyte.gz\n",
            "29515/29515 [==============================] - 0s 0us/step\n",
            "Downloading data from https://storage.googleapis.com/tensorflow/tf-keras-datasets/train-images-idx3-ubyte.gz\n",
            "26421880/26421880 [==============================] - 0s 0us/step\n",
            "Downloading data from https://storage.googleapis.com/tensorflow/tf-keras-datasets/t10k-labels-idx1-ubyte.gz\n",
            "5148/5148 [==============================] - 0s 0us/step\n",
            "Downloading data from https://storage.googleapis.com/tensorflow/tf-keras-datasets/t10k-images-idx3-ubyte.gz\n",
            "4422102/4422102 [==============================] - 0s 0us/step\n",
            "x_train shape: (60000, 28, 28) y_train shape: (60000,)\n"
          ]
        }
      ],
      "source": [
        "import tensorflow as tf\n",
        "\n",
        "import numpy as np\n",
        "import matplotlib.pyplot as plt\n",
        "\n",
        "\n",
        "(x_train, y_train), (x_test, y_test) = tf.keras.datasets.fashion_mnist.load_data()\n",
        "\n",
        "print(\"x_train shape:\", x_train.shape, \"y_train shape:\", y_train.shape)"
      ]
    },
    {
      "cell_type": "markdown",
      "metadata": {
        "id": "tWORMSC8FDR4"
      },
      "source": [
        "## Visualize the data"
      ]
    },
    {
      "cell_type": "code",
      "execution_count": 2,
      "metadata": {
        "colab": {
          "base_uri": "https://localhost:8080/",
          "height": 517
        },
        "id": "aFe4wHGRFKle",
        "outputId": "5990849b-44f4-43d2-e621-e209ce87a898"
      },
      "outputs": [
        {
          "output_type": "stream",
          "name": "stdout",
          "text": [
            "x_train shape: (60000, 28, 28) y_train shape: (60000,)\n",
            "60000 train set\n",
            "10000 test set\n",
            "y = 2 Pullover\n"
          ]
        },
        {
          "output_type": "execute_result",
          "data": {
            "text/plain": [
              "<matplotlib.image.AxesImage at 0x7e16849a55a0>"
            ]
          },
          "metadata": {},
          "execution_count": 2
        },
        {
          "output_type": "display_data",
          "data": {
            "text/plain": [
              "<Figure size 640x480 with 1 Axes>"
            ],
            "image/png": "[encoded data removed]"
          },
          "metadata": {}
        }
      ],
      "source": [
        "\n",
        "print(\"x_train shape:\", x_train.shape, \"y_train shape:\", y_train.shape)\n",
        "\n",
        "\n",
        "print(x_train.shape[0], 'train set')\n",
        "print(x_test.shape[0], 'test set')\n",
        "\n",
        "\n",
        "fashion_mnist_labels = [\"T-shirt/top\",\n",
        "                        \"Trouser\",\n",
        "                        \"Pullover\",\n",
        "                        \"Dress\",\n",
        "                        \"Coat\",\n",
        "                        \"Sandal\",\n",
        "                        \"Shirt\",\n",
        "                        \"Sneaker\",\n",
        "                        \"Bag\",\n",
        "                        \"Ankle boot\"]\n",
        "\n",
        "\n",
        "img_index = 5\n",
        "\n",
        "label_index = y_train[img_index]\n",
        "\n",
        "print (\"y = \" + str(label_index) + \" \" +(fashion_mnist_labels[label_index]))\n",
        "\n",
        "plt.imshow(x_train[img_index])"
      ]
    },
    {
      "cell_type": "code",
      "execution_count": 3,
      "metadata": {
        "id": "So-o0XSLsL-b",
        "outputId": "4ce4685d-79da-4022-e2cb-e3eb34b22a2b",
        "colab": {
          "base_uri": "https://localhost:8080/"
        }
      },
      "outputs": [
        {
          "output_type": "execute_result",
          "data": {
            "text/plain": [
              "(60000, 28, 28, 1)"
            ]
          },
          "metadata": {},
          "execution_count": 3
        }
      ],
      "source": [
        "w, h = 28, 28\n",
        "x_train = x_train.reshape(x_train.shape[0], w, h, 1)\n",
        "x_test = x_test.reshape(x_test.shape[0], w, h, 1)\n",
        "\n",
        "x_train.shape"
      ]
    },
    {
      "cell_type": "code",
      "execution_count": 4,
      "metadata": {
        "colab": {
          "base_uri": "https://localhost:8080/"
        },
        "id": "QgTZ47SsZZg4",
        "outputId": "76acb80c-5d0a-406d-acb6-4882307baadb"
      },
      "outputs": [
        {
          "output_type": "stream",
          "name": "stdout",
          "text": [
            "Model: \"sequential\"\n",
            "_________________________________________________________________\n",
            " Layer (type)                Output Shape              Param #   \n",
            "=================================================================\n",
            " conv2d (Conv2D)             (None, 28, 28, 64)        320       \n",
            "                                                                 \n",
            " max_pooling2d (MaxPooling2  (None, 14, 14, 64)        0         \n",
            " D)                                                              \n",
            "                                                                 \n",
            " dropout (Dropout)           (None, 14, 14, 64)        0         \n",
            "                                                                 \n",
            " conv2d_1 (Conv2D)           (None, 14, 14, 32)        8224      \n",
            "                                                                 \n",
            " max_pooling2d_1 (MaxPoolin  (None, 7, 7, 32)          0         \n",
            " g2D)                                                            \n",
            "                                                                 \n",
            " dropout_1 (Dropout)         (None, 7, 7, 32)          0         \n",
            "                                                                 \n",
            " flatten (Flatten)           (None, 1568)              0         \n",
            "                                                                 \n",
            " dense (Dense)               (None, 256)               401664    \n",
            "                                                                 \n",
            " dropout_2 (Dropout)         (None, 256)               0         \n",
            "                                                                 \n",
            " dense_1 (Dense)             (None, 10)                2570      \n",
            "                                                                 \n",
            "=================================================================\n",
            "Total params: 412778 (1.57 MB)\n",
            "Trainable params: 412778 (1.57 MB)\n",
            "Non-trainable params: 0 (0.00 Byte)\n",
            "_________________________________________________________________\n"
          ]
        }
      ],
      "source": [
        "from tensorflow.keras.layers import Dense, Conv2D, MaxPooling2D, Dropout, Flatten\n",
        "\n",
        "model = tf.keras.Sequential()\n",
        "\n",
        "model.add(Conv2D(filters=64,\n",
        "                 kernel_size=2,\n",
        "                 padding='same',\n",
        "                 activation='relu',\n",
        "                 input_shape=(28,28,1)\n",
        "                 ))\n",
        "model.add(MaxPooling2D(pool_size=2))\n",
        "model.add(Dropout(0.3))\n",
        "\n",
        "model.add(Conv2D(filters=32,\n",
        "                 kernel_size=2,\n",
        "                 padding='same',\n",
        "                 activation='relu'))\n",
        "model.add(MaxPooling2D(pool_size=2))\n",
        "model.add(Dropout(0.3))\n",
        "\n",
        "model.add(Flatten())\n",
        "model.add(Dense(256, activation='relu'))\n",
        "model.add(Dropout(0.5))\n",
        "model.add(Dense(10, activation='softmax'))\n",
        "\n",
        "model.summary()"
      ]
    },
    {
      "cell_type": "code",
      "execution_count": 7,
      "metadata": {
        "id": "CQUlOa8cZZg9",
        "outputId": "590816b6-caf4-4d78-f94b-37808aecbb5d",
        "colab": {
          "base_uri": "https://localhost:8080/"
        }
      },
      "outputs": [
        {
          "output_type": "stream",
          "name": "stdout",
          "text": [
            "Epoch 1/20\n",
            "48/48 [==============================] - 8s 51ms/step - loss: 10.6235 - accuracy: 0.3909 - val_loss: 1.1313 - val_accuracy: 0.5906\n",
            "Epoch 2/20\n",
            "48/48 [==============================] - 2s 36ms/step - loss: 1.2536 - accuracy: 0.5439 - val_loss: 0.8510 - val_accuracy: 0.6837\n",
            "Epoch 3/20\n",
            "48/48 [==============================] - 2s 38ms/step - loss: 1.0283 - accuracy: 0.6212 - val_loss: 0.7540 - val_accuracy: 0.7327\n",
            "Epoch 4/20\n",
            "48/48 [==============================] - 2s 50ms/step - loss: 0.9175 - accuracy: 0.6592 - val_loss: 0.6702 - val_accuracy: 0.7550\n",
            "Epoch 5/20\n",
            "48/48 [==============================] - 2s 41ms/step - loss: 0.8412 - accuracy: 0.6888 - val_loss: 0.6099 - val_accuracy: 0.7727\n",
            "Epoch 6/20\n",
            "48/48 [==============================] - 2s 32ms/step - loss: 0.7701 - accuracy: 0.7126 - val_loss: 0.5719 - val_accuracy: 0.7890\n",
            "Epoch 7/20\n",
            "48/48 [==============================] - 1s 31ms/step - loss: 0.7232 - accuracy: 0.7285 - val_loss: 0.5386 - val_accuracy: 0.8043\n",
            "Epoch 8/20\n",
            "48/48 [==============================] - 2s 31ms/step - loss: 0.6812 - accuracy: 0.7439 - val_loss: 0.5139 - val_accuracy: 0.8143\n",
            "Epoch 9/20\n",
            "48/48 [==============================] - 2s 31ms/step - loss: 0.6586 - accuracy: 0.7545 - val_loss: 0.4996 - val_accuracy: 0.8159\n",
            "Epoch 10/20\n",
            "48/48 [==============================] - 2s 32ms/step - loss: 0.6264 - accuracy: 0.7637 - val_loss: 0.4792 - val_accuracy: 0.8228\n",
            "Epoch 11/20\n",
            "48/48 [==============================] - 2s 34ms/step - loss: 0.6086 - accuracy: 0.7683 - val_loss: 0.4590 - val_accuracy: 0.8288\n",
            "Epoch 12/20\n",
            "48/48 [==============================] - 2s 33ms/step - loss: 0.5944 - accuracy: 0.7749 - val_loss: 0.4543 - val_accuracy: 0.8326\n",
            "Epoch 13/20\n",
            "48/48 [==============================] - 1s 31ms/step - loss: 0.5804 - accuracy: 0.7812 - val_loss: 0.4343 - val_accuracy: 0.8393\n",
            "Epoch 14/20\n",
            "48/48 [==============================] - 2s 31ms/step - loss: 0.5633 - accuracy: 0.7907 - val_loss: 0.4287 - val_accuracy: 0.8412\n",
            "Epoch 15/20\n",
            "48/48 [==============================] - 2s 31ms/step - loss: 0.5521 - accuracy: 0.7920 - val_loss: 0.4216 - val_accuracy: 0.8501\n",
            "Epoch 16/20\n",
            "48/48 [==============================] - 2s 31ms/step - loss: 0.5335 - accuracy: 0.7995 - val_loss: 0.4018 - val_accuracy: 0.8477\n",
            "Epoch 17/20\n",
            "48/48 [==============================] - 1s 31ms/step - loss: 0.5240 - accuracy: 0.8036 - val_loss: 0.3932 - val_accuracy: 0.8549\n",
            "Epoch 18/20\n",
            "48/48 [==============================] - 1s 31ms/step - loss: 0.5153 - accuracy: 0.8074 - val_loss: 0.3950 - val_accuracy: 0.8530\n",
            "Epoch 19/20\n",
            "48/48 [==============================] - 2s 34ms/step - loss: 0.5068 - accuracy: 0.8106 - val_loss: 0.3815 - val_accuracy: 0.8593\n",
            "Epoch 20/20\n",
            "48/48 [==============================] - 2s 33ms/step - loss: 0.4939 - accuracy: 0.8158 - val_loss: 0.3786 - val_accuracy: 0.8608\n",
            "CPU times: user 31.9 s, sys: 914 ms, total: 32.9 s\n",
            "Wall time: 39.5 s\n"
          ]
        }
      ],
      "source": [
        "BATCH_SIZE=1000\n",
        "EPOCHS = 20\n",
        "\n",
        "model.compile(loss='sparse_categorical_crossentropy',\n",
        "             optimizer='adam',\n",
        "             metrics=['accuracy'])\n",
        "%time history = model.fit(x_train,y_train,epochs=EPOCHS,batch_size=BATCH_SIZE,validation_split=0.2,verbose=1)"
      ]
    },
    {
      "cell_type": "code",
      "execution_count": 8,
      "metadata": {
        "id": "pmWMZPuLsL-i",
        "outputId": "3a4e4e7a-a05b-41df-8d28-79446daf6b0c",
        "colab": {
          "base_uri": "https://localhost:8080/"
        }
      },
      "outputs": [
        {
          "output_type": "stream",
          "name": "stdout",
          "text": [
            "60/60 [==============================] - 0s 7ms/step - loss: 0.3630 - accuracy: 0.8635\n"
          ]
        },
        {
          "output_type": "execute_result",
          "data": {
            "text/plain": [
              "0.8634833097457886"
            ]
          },
          "metadata": {},
          "execution_count": 8
        }
      ],
      "source": [
        "train_loss, train_accuracy = model.evaluate(x_train, y_train, batch_size=BATCH_SIZE)\n",
        "train_accuracy"
      ]
    },
    {
      "cell_type": "code",
      "execution_count": 9,
      "metadata": {
        "id": "JYp-2o1FsL-j",
        "outputId": "3dbe8db9-e109-4023-c346-d346573e99e4",
        "colab": {
          "base_uri": "https://localhost:8080/"
        }
      },
      "outputs": [
        {
          "output_type": "stream",
          "name": "stdout",
          "text": [
            "10/10 [==============================] - 0s 8ms/step - loss: 0.4000 - accuracy: 0.8529\n"
          ]
        },
        {
          "output_type": "execute_result",
          "data": {
            "text/plain": [
              "0.8529000282287598"
            ]
          },
          "metadata": {},
          "execution_count": 9
        }
      ],
      "source": [
        "test_loss, test_accuracy = model.evaluate(x_test, y_test, batch_size=BATCH_SIZE)\n",
        "test_accuracy"
      ]
    },
    {
      "cell_type": "code",
      "execution_count": 13,
      "metadata": {
        "id": "08TNhv8qsL-k",
        "outputId": "980c1883-29d4-4de8-f9eb-9a352d4730a6",
        "colab": {
          "base_uri": "https://localhost:8080/",
          "height": 559
        }
      },
      "outputs": [
        {
          "output_type": "stream",
          "name": "stdout",
          "text": [
            "313/313 [==============================] - 1s 2ms/step\n"
          ]
        },
        {
          "output_type": "display_data",
          "data": {
            "text/plain": [
              "<Figure size 600x600 with 1 Axes>"
            ],
            "image/png": "[encoded data removed]"
          },
          "metadata": {}
        }
      ],
      "source": [
        "y_hat = model.predict(x_test)\n",
        "\n",
        "# Plot a single test image, its predicted label and ground truth\n",
        "index = np.random.randint(0, x_test.shape[0])  # Choose a random index for the test image\n",
        "\n",
        "plt.figure(figsize=(6, 6))\n",
        "plt.imshow(np.squeeze(x_test[index]))\n",
        "plt.title(\"Predicted: {}\\nTrue: {}\".format(fashion_mnist_labels[np.argmax(y_hat[index])],\n",
        "                                           fashion_mnist_labels[y_test[index]]),\n",
        "          color=(\"green\" if np.argmax(y_hat[index]) == y_test[index] else \"red\"))\n",
        "plt.axis('off')\n",
        "plt.show()\n",
        "\n",
        "\n",
        "# # Plot a random sample of 10 test images, their predicted labels and ground truth\n",
        "# figure = plt.figure(figsize=(20, 8))\n",
        "# for i, index in enumerate(np.random.choice(x_test.shape[0], size=15, replace=False)):\n",
        "#     ax = figure.add_subplot(3, 5, i + 1, xticks=[], yticks=[])\n",
        "#     # Display each image\n",
        "#     ax.imshow(np.squeeze(x_test[index]))\n",
        "#     predict_index = np.argmax(y_hat[index])\n",
        "#     true_index = y_test[index]\n",
        "#     # Set the title for each image\n",
        "#     ax.set_title(\"{} ({})\".format(fashion_mnist_labels[predict_index],\n",
        "#                                   fashion_mnist_labels[true_index]),\n",
        "#                                   color=(\"green\" if predict_index == true_index else \"red\"))\n"
      ]
    },
    {
      "cell_type": "code",
      "source": [],
      "metadata": {
        "id": "k9ikpur1F7mn"
      },
      "execution_count": 12,
      "outputs": []
    }
  ]
}